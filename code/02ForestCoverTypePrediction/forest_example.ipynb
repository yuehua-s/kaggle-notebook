{
 "cells": [
  {
   "cell_type": "code",
   "execution_count": 2,
   "metadata": {},
   "outputs": [],
   "source": [
    "from pytorch_tabnet.tab_model import TabNetClassifier\n",
    "\n",
    "import torch\n",
    "from sklearn.preprocessing import LabelEncoder\n",
    "from sklearn.metrics import accuracy_score\n",
    "from sklearn.model_selection import train_test_split\n",
    "import pandas as pd\n",
    "import numpy as np\n",
    "np.random.seed(0)\n",
    "\n",
    "import os\n",
    "import wget\n",
    "from pathlib import Path\n",
    "import shutil\n",
    "import gzip\n",
    "\n",
    "from matplotlib import pyplot as plt\n",
    "%matplotlib inline"
   ]
  },
  {
   "cell_type": "markdown",
   "metadata": {},
   "source": [
    "# Download ForestCoverType dataset"
   ]
  },
  {
   "cell_type": "code",
   "execution_count": 3,
   "metadata": {},
   "outputs": [],
   "source": [
    "url = \"https://archive.ics.uci.edu/ml/machine-learning-databases/covtype/covtype.data.gz\"\n",
    "dataset_name = 'forest-cover-type'\n",
    "tmp_out = Path('./data/'+dataset_name+'.gz')\n",
    "out = Path(os.getcwd()+'/data/'+dataset_name+'.csv')"
   ]
  },
  {
   "cell_type": "code",
   "execution_count": 4,
   "metadata": {},
   "outputs": [
    {
     "name": "stdout",
     "output_type": "stream",
     "text": [
      "File already exists.\n"
     ]
    }
   ],
   "source": [
    "out.parent.mkdir(parents=True, exist_ok=True)\n",
    "if out.exists():\n",
    "    print(\"File already exists.\")\n",
    "else:\n",
    "    print(\"Downloading file...\")\n",
    "    wget.download(url, tmp_out.as_posix())\n",
    "    with gzip.open(tmp_out, 'rb') as f_in:\n",
    "        with open(out, 'wb') as f_out:\n",
    "            shutil.copyfileobj(f_in, f_out)"
   ]
  },
  {
   "cell_type": "markdown",
   "metadata": {},
   "source": [
    "# Load data and split\n",
    "Same split as in original paper"
   ]
  },
  {
   "cell_type": "code",
   "execution_count": 6,
   "metadata": {},
   "outputs": [],
   "source": [
    "target = \"Cover_Type\"\n",
    "\n",
    "bool_columns = [\n",
    "    \"Wilderness_Area1\", \"Wilderness_Area2\", \"Wilderness_Area3\",\n",
    "    \"Wilderness_Area4\", \"Soil_Type1\", \"Soil_Type2\", \"Soil_Type3\", \"Soil_Type4\",\n",
    "    \"Soil_Type5\", \"Soil_Type6\", \"Soil_Type7\", \"Soil_Type8\", \"Soil_Type9\",\n",
    "    \"Soil_Type10\", \"Soil_Type11\", \"Soil_Type12\", \"Soil_Type13\", \"Soil_Type14\",\n",
    "    \"Soil_Type15\", \"Soil_Type16\", \"Soil_Type17\", \"Soil_Type18\", \"Soil_Type19\",\n",
    "    \"Soil_Type20\", \"Soil_Type21\", \"Soil_Type22\", \"Soil_Type23\", \"Soil_Type24\",\n",
    "    \"Soil_Type25\", \"Soil_Type26\", \"Soil_Type27\", \"Soil_Type28\", \"Soil_Type29\",\n",
    "    \"Soil_Type30\", \"Soil_Type31\", \"Soil_Type32\", \"Soil_Type33\", \"Soil_Type34\",\n",
    "    \"Soil_Type35\", \"Soil_Type36\", \"Soil_Type37\", \"Soil_Type38\", \"Soil_Type39\",\n",
    "    \"Soil_Type40\"\n",
    "]\n",
    "\n",
    "int_columns = [\n",
    "    \"Elevation\", \"Aspect\", \"Slope\", \"Horizontal_Distance_To_Hydrology\",\n",
    "    \"Vertical_Distance_To_Hydrology\", \"Horizontal_Distance_To_Roadways\",\n",
    "    \"Hillshade_9am\", \"Hillshade_Noon\", \"Hillshade_3pm\",\n",
    "    \"Horizontal_Distance_To_Fire_Points\"\n",
    "]\n",
    "\n",
    "feature_columns = (int_columns + bool_columns + [target])\n",
    "test_feature_columns = (int_columns + bool_columns)"
   ]
  },
  {
   "cell_type": "code",
   "execution_count": 7,
   "metadata": {},
   "outputs": [
    {
     "name": "stderr",
     "output_type": "stream",
     "text": [
      "/data/home/yuehuazhang/miniconda3/envs/deeplearning/lib/python3.10/site-packages/IPython/core/interactiveshell.py:3269: DtypeWarning: Columns (0,1,2,3,4,5,6,7,8,9,10,11,12,13,14,15,16,17,18,19,20,21,22,23,24,25,26,27,28,29,30,31,32,33,34,35,36,37,38,39,40,41,42,43,44,45,46,47,48,49,50,51,52,53,54) have mixed types.Specify dtype option on import or set low_memory=False.\n",
      "  has_raised = await self.run_ast_nodes(code_ast.body, cell_name,\n"
     ]
    }
   ],
   "source": [
    "train = pd.read_csv(out, header=None, names=feature_columns)\n",
    "train_kaggle = pd.read_csv(\"../../kaggle_data/forestCoverTypePrediction/test.csv\", header=None, names=test_feature_columns).iloc[1:, :].astype(int) # 提交测试集\n",
    "id_kaggle = pd.read_csv(\"../../kaggle_data/forestCoverTypePrediction/test.csv\", header=None).iloc[:, :1]\n",
    "\n",
    "n_total = len(train)\n",
    "\n",
    "# Train, val and test split follows\n",
    "# Rory Mitchell, Andrey Adinets, Thejaswi Rao, and Eibe Frank.\n",
    "# Xgboost: Scalable GPU accelerated learning. arXiv:1806.11248, 2018.\n",
    "\n",
    "train_val_indices, test_indices = train_test_split(\n",
    "    range(n_total), test_size=0.2, random_state=0)\n",
    "\n",
    "train_indices, valid_indices = train_test_split(\n",
    "    train_val_indices, test_size=0.2 / 0.6, random_state=0)\n"
   ]
  },
  {
   "cell_type": "markdown",
   "metadata": {},
   "source": [
    "# Simple preprocessing\n",
    "\n",
    "Label encode categorical features and fill empty cells."
   ]
  },
  {
   "cell_type": "code",
   "execution_count": 8,
   "metadata": {},
   "outputs": [],
   "source": [
    "categorical_columns = []\n",
    "categorical_dims =  {}\n",
    "for col in train.columns[train.dtypes == object]:\n",
    "    print(col, train[col].nunique())\n",
    "    l_enc = LabelEncoder()\n",
    "    train[col] = train[col].fillna(\"VV_likely\")\n",
    "    train[col] = l_enc.fit_transform(train[col].values)\n",
    "    categorical_columns.append(col)\n",
    "    categorical_dims[col] = len(l_enc.classes_)\n",
    "\n",
    "for col in train.columns[train.dtypes == 'float64']:\n",
    "    train.fillna(train.loc[train_indices, col].mean(), inplace=True)\n",
    "    \n",
    "for col in train_kaggle.columns[train_kaggle.dtypes == object]:\n",
    "    print(col, train_kaggle[col].nunique())\n",
    "    l_enc = LabelEncoder()\n",
    "    train_kaggle[col] = train_kaggle[col].fillna(\"VV_likely\")\n",
    "    train_kaggle[col] = l_enc.fit_transform(train_kaggle[col].values)\n",
    "    categorical_columns.append(col)\n",
    "    categorical_dims[col] = len(l_enc.classes_)\n",
    "\n",
    "for col in train_kaggle.columns[train_kaggle.dtypes == 'float64']:\n",
    "    train_kaggle.fillna(train_kaggle[col].mean(), inplace=True)"
   ]
  },
  {
   "cell_type": "markdown",
   "metadata": {},
   "source": [
    "# Define categorical features for categorical embeddings"
   ]
  },
  {
   "cell_type": "code",
   "execution_count": 9,
   "metadata": {},
   "outputs": [],
   "source": [
    "# This is a generic pipeline but actually no categorical features are available for this dataset\n",
    "\n",
    "unused_feat = []\n",
    "\n",
    "features = [ col for col in train.columns if col not in unused_feat+[target]] \n",
    "\n",
    "cat_idxs = [ i for i, f in enumerate(features) if f in categorical_columns]\n",
    "\n",
    "cat_dims = [ categorical_dims[f] for i, f in enumerate(features) if f in categorical_columns]\n"
   ]
  },
  {
   "cell_type": "markdown",
   "metadata": {},
   "source": [
    "# Network parameters"
   ]
  },
  {
   "cell_type": "code",
   "execution_count": 10,
   "metadata": {},
   "outputs": [
    {
     "name": "stderr",
     "output_type": "stream",
     "text": [
      "/data/home/yuehuazhang/miniconda3/envs/deeplearning/lib/python3.10/site-packages/pytorch_tabnet/abstract_model.py:82: UserWarning: Device used : cuda\n",
      "  warnings.warn(f\"Device used : {self.device}\")\n"
     ]
    }
   ],
   "source": [
    "clf = TabNetClassifier(\n",
    "    n_d=64, n_a=64, n_steps=5,\n",
    "    gamma=1.5, n_independent=2, n_shared=2,\n",
    "    cat_idxs=cat_idxs,\n",
    "    cat_dims=cat_dims,\n",
    "    cat_emb_dim=1,\n",
    "    lambda_sparse=1e-4, momentum=0.3, clip_value=2.,\n",
    "    optimizer_fn=torch.optim.Adam,\n",
    "    optimizer_params=dict(lr=2e-2),\n",
    "    scheduler_params = {\"gamma\": 0.95,\n",
    "                     \"step_size\": 20},\n",
    "    scheduler_fn=torch.optim.lr_scheduler.StepLR, epsilon=1e-15\n",
    ")"
   ]
  },
  {
   "cell_type": "markdown",
   "metadata": {},
   "source": [
    "# Training"
   ]
  },
  {
   "cell_type": "code",
   "execution_count": 11,
   "metadata": {},
   "outputs": [],
   "source": [
    "if os.getenv(\"CI\", False):\n",
    "# Take only a subsample to run CI\n",
    "    X_train = train[features].values[train_indices][:1000,:]\n",
    "    y_train = train[target].values[train_indices][:1000]\n",
    "else:\n",
    "    X_train = train[features].values[train_indices]\n",
    "    y_train = train[target].values[train_indices]\n",
    "\n",
    "X_valid = train[features].values[valid_indices]\n",
    "y_valid = train[target].values[valid_indices]\n",
    "\n",
    "X_test = train[features].values[test_indices]\n",
    "y_test = train[target].values[test_indices]"
   ]
  },
  {
   "cell_type": "code",
   "execution_count": 12,
   "metadata": {},
   "outputs": [],
   "source": [
    "max_epochs = 100 if not os.getenv(\"CI\", False) else 2"
   ]
  },
  {
   "cell_type": "code",
   "execution_count": 13,
   "metadata": {
    "scrolled": true
   },
   "outputs": [
    {
     "name": "stdout",
     "output_type": "stream",
     "text": [
      "epoch 0  | loss: 1.30267 | train_accuracy: 0.27961 | valid_accuracy: 0.28053 |  0:00:14s\n",
      "epoch 1  | loss: 0.85445 | train_accuracy: 0.09992 | valid_accuracy: 0.09886 |  0:00:28s\n",
      "epoch 2  | loss: 0.74288 | train_accuracy: 0.08514 | valid_accuracy: 0.08459 |  0:00:42s\n",
      "epoch 3  | loss: 0.70015 | train_accuracy: 0.10687 | valid_accuracy: 0.1061  |  0:00:57s\n",
      "epoch 4  | loss: 0.67773 | train_accuracy: 0.12841 | valid_accuracy: 0.12774 |  0:01:11s\n",
      "epoch 5  | loss: 0.66256 | train_accuracy: 0.11553 | valid_accuracy: 0.11535 |  0:01:25s\n",
      "epoch 6  | loss: 0.65037 | train_accuracy: 0.13377 | valid_accuracy: 0.13367 |  0:01:39s\n",
      "epoch 7  | loss: 0.63712 | train_accuracy: 0.16151 | valid_accuracy: 0.16209 |  0:01:53s\n",
      "epoch 8  | loss: 0.62993 | train_accuracy: 0.18402 | valid_accuracy: 0.1851  |  0:02:07s\n",
      "epoch 9  | loss: 0.62082 | train_accuracy: 0.22524 | valid_accuracy: 0.22558 |  0:02:21s\n",
      "epoch 10 | loss: 0.61332 | train_accuracy: 0.29692 | valid_accuracy: 0.2977  |  0:02:35s\n",
      "epoch 11 | loss: 0.60696 | train_accuracy: 0.40073 | valid_accuracy: 0.4006  |  0:02:49s\n",
      "epoch 12 | loss: 0.59756 | train_accuracy: 0.45869 | valid_accuracy: 0.45696 |  0:03:04s\n",
      "epoch 13 | loss: 0.58749 | train_accuracy: 0.53287 | valid_accuracy: 0.53093 |  0:03:18s\n",
      "epoch 14 | loss: 0.58205 | train_accuracy: 0.58402 | valid_accuracy: 0.58085 |  0:03:32s\n",
      "epoch 15 | loss: 0.57528 | train_accuracy: 0.62779 | valid_accuracy: 0.62598 |  0:03:46s\n",
      "epoch 16 | loss: 0.56878 | train_accuracy: 0.66499 | valid_accuracy: 0.66317 |  0:04:00s\n",
      "epoch 17 | loss: 0.5632  | train_accuracy: 0.68145 | valid_accuracy: 0.67797 |  0:04:14s\n",
      "epoch 18 | loss: 0.55693 | train_accuracy: 0.71209 | valid_accuracy: 0.70989 |  0:04:29s\n",
      "epoch 19 | loss: 0.55055 | train_accuracy: 0.72841 | valid_accuracy: 0.72659 |  0:04:43s\n",
      "epoch 20 | loss: 0.54264 | train_accuracy: 0.75604 | valid_accuracy: 0.75411 |  0:04:57s\n",
      "epoch 21 | loss: 0.53662 | train_accuracy: 0.75976 | valid_accuracy: 0.75877 |  0:05:11s\n",
      "epoch 22 | loss: 0.53033 | train_accuracy: 0.77899 | valid_accuracy: 0.7779  |  0:05:25s\n",
      "epoch 23 | loss: 0.52662 | train_accuracy: 0.78251 | valid_accuracy: 0.78101 |  0:05:39s\n",
      "epoch 24 | loss: 0.51886 | train_accuracy: 0.79538 | valid_accuracy: 0.79382 |  0:05:54s\n",
      "epoch 25 | loss: 0.51767 | train_accuracy: 0.7853  | valid_accuracy: 0.78414 |  0:06:08s\n",
      "epoch 26 | loss: 0.51412 | train_accuracy: 0.80294 | valid_accuracy: 0.80124 |  0:06:22s\n",
      "epoch 27 | loss: 0.50513 | train_accuracy: 0.81253 | valid_accuracy: 0.81029 |  0:06:36s\n",
      "epoch 28 | loss: 0.49815 | train_accuracy: 0.81529 | valid_accuracy: 0.8129  |  0:06:50s\n",
      "epoch 29 | loss: 0.49077 | train_accuracy: 0.82027 | valid_accuracy: 0.81801 |  0:07:05s\n",
      "epoch 30 | loss: 0.4854  | train_accuracy: 0.82296 | valid_accuracy: 0.8207  |  0:07:19s\n",
      "epoch 31 | loss: 0.47878 | train_accuracy: 0.83193 | valid_accuracy: 0.82938 |  0:07:33s\n",
      "epoch 32 | loss: 0.47229 | train_accuracy: 0.83346 | valid_accuracy: 0.82969 |  0:07:47s\n",
      "epoch 33 | loss: 0.4673  | train_accuracy: 0.83645 | valid_accuracy: 0.83307 |  0:08:02s\n",
      "epoch 34 | loss: 0.46117 | train_accuracy: 0.8415  | valid_accuracy: 0.8378  |  0:08:16s\n",
      "epoch 35 | loss: 0.45571 | train_accuracy: 0.84291 | valid_accuracy: 0.84129 |  0:08:30s\n",
      "epoch 36 | loss: 0.45016 | train_accuracy: 0.84345 | valid_accuracy: 0.84004 |  0:08:44s\n",
      "epoch 37 | loss: 0.44454 | train_accuracy: 0.84904 | valid_accuracy: 0.84589 |  0:08:58s\n",
      "epoch 38 | loss: 0.43899 | train_accuracy: 0.855   | valid_accuracy: 0.85151 |  0:09:13s\n",
      "epoch 39 | loss: 0.43785 | train_accuracy: 0.85137 | valid_accuracy: 0.84797 |  0:09:27s\n",
      "epoch 40 | loss: 0.43557 | train_accuracy: 0.85599 | valid_accuracy: 0.85042 |  0:09:41s\n",
      "epoch 41 | loss: 0.42537 | train_accuracy: 0.85878 | valid_accuracy: 0.85374 |  0:09:55s\n",
      "epoch 42 | loss: 0.42065 | train_accuracy: 0.86131 | valid_accuracy: 0.85588 |  0:10:09s\n",
      "epoch 43 | loss: 0.41536 | train_accuracy: 0.86641 | valid_accuracy: 0.86174 |  0:10:24s\n",
      "epoch 44 | loss: 0.41007 | train_accuracy: 0.86747 | valid_accuracy: 0.86282 |  0:10:38s\n",
      "epoch 45 | loss: 0.40433 | train_accuracy: 0.86877 | valid_accuracy: 0.86372 |  0:10:52s\n",
      "epoch 46 | loss: 0.40683 | train_accuracy: 0.86958 | valid_accuracy: 0.86445 |  0:11:06s\n",
      "epoch 47 | loss: 0.40001 | train_accuracy: 0.87158 | valid_accuracy: 0.86598 |  0:11:21s\n",
      "epoch 48 | loss: 0.40351 | train_accuracy: 0.86758 | valid_accuracy: 0.86281 |  0:11:35s\n",
      "epoch 49 | loss: 0.41264 | train_accuracy: 0.86078 | valid_accuracy: 0.85651 |  0:11:49s\n",
      "epoch 50 | loss: 0.4085  | train_accuracy: 0.86593 | valid_accuracy: 0.862   |  0:12:03s\n",
      "epoch 51 | loss: 0.39952 | train_accuracy: 0.86929 | valid_accuracy: 0.86404 |  0:12:17s\n",
      "epoch 52 | loss: 0.39235 | train_accuracy: 0.87606 | valid_accuracy: 0.86917 |  0:12:32s\n",
      "epoch 53 | loss: 0.39307 | train_accuracy: 0.87417 | valid_accuracy: 0.86969 |  0:12:46s\n",
      "epoch 54 | loss: 0.3821  | train_accuracy: 0.87908 | valid_accuracy: 0.8728  |  0:13:00s\n",
      "epoch 55 | loss: 0.37762 | train_accuracy: 0.88293 | valid_accuracy: 0.87613 |  0:13:14s\n",
      "epoch 56 | loss: 0.37802 | train_accuracy: 0.88102 | valid_accuracy: 0.87441 |  0:13:28s\n",
      "epoch 57 | loss: 0.37151 | train_accuracy: 0.88614 | valid_accuracy: 0.88016 |  0:13:43s\n",
      "epoch 58 | loss: 0.36708 | train_accuracy: 0.88117 | valid_accuracy: 0.87491 |  0:13:57s\n",
      "epoch 59 | loss: 0.36484 | train_accuracy: 0.88864 | valid_accuracy: 0.88142 |  0:14:11s\n",
      "epoch 60 | loss: 0.36219 | train_accuracy: 0.88984 | valid_accuracy: 0.88306 |  0:14:25s\n",
      "epoch 61 | loss: 0.35643 | train_accuracy: 0.89123 | valid_accuracy: 0.88371 |  0:14:39s\n",
      "epoch 62 | loss: 0.35208 | train_accuracy: 0.89588 | valid_accuracy: 0.88865 |  0:14:54s\n",
      "epoch 63 | loss: 0.34728 | train_accuracy: 0.89051 | valid_accuracy: 0.88328 |  0:15:08s\n",
      "epoch 64 | loss: 0.37442 | train_accuracy: 0.88428 | valid_accuracy: 0.87747 |  0:15:22s\n",
      "epoch 65 | loss: 0.36113 | train_accuracy: 0.89122 | valid_accuracy: 0.88387 |  0:15:36s\n",
      "epoch 66 | loss: 0.35537 | train_accuracy: 0.89197 | valid_accuracy: 0.88395 |  0:15:50s\n",
      "epoch 67 | loss: 0.36554 | train_accuracy: 0.87005 | valid_accuracy: 0.86389 |  0:16:05s\n",
      "epoch 68 | loss: 0.47282 | train_accuracy: 0.83816 | valid_accuracy: 0.83402 |  0:16:19s\n",
      "epoch 69 | loss: 0.454   | train_accuracy: 0.82964 | valid_accuracy: 0.82543 |  0:16:33s\n",
      "epoch 70 | loss: 0.4493  | train_accuracy: 0.86008 | valid_accuracy: 0.85453 |  0:16:47s\n",
      "epoch 71 | loss: 0.41202 | train_accuracy: 0.86819 | valid_accuracy: 0.86349 |  0:17:01s\n",
      "epoch 72 | loss: 0.39273 | train_accuracy: 0.87882 | valid_accuracy: 0.87348 |  0:17:15s\n",
      "epoch 73 | loss: 0.37945 | train_accuracy: 0.88015 | valid_accuracy: 0.87483 |  0:17:29s\n",
      "epoch 74 | loss: 0.36863 | train_accuracy: 0.88928 | valid_accuracy: 0.88156 |  0:17:44s\n",
      "epoch 75 | loss: 0.36194 | train_accuracy: 0.89212 | valid_accuracy: 0.88661 |  0:17:58s\n",
      "epoch 76 | loss: 0.35194 | train_accuracy: 0.89332 | valid_accuracy: 0.88563 |  0:18:12s\n",
      "epoch 77 | loss: 0.34996 | train_accuracy: 0.89841 | valid_accuracy: 0.89145 |  0:18:26s\n",
      "epoch 78 | loss: 0.34386 | train_accuracy: 0.90062 | valid_accuracy: 0.89314 |  0:18:41s\n",
      "epoch 79 | loss: 0.33969 | train_accuracy: 0.90056 | valid_accuracy: 0.89336 |  0:18:55s\n",
      "epoch 80 | loss: 0.33552 | train_accuracy: 0.90593 | valid_accuracy: 0.89844 |  0:19:09s\n",
      "epoch 81 | loss: 0.3288  | train_accuracy: 0.9051  | valid_accuracy: 0.89782 |  0:19:23s\n",
      "epoch 82 | loss: 0.32454 | train_accuracy: 0.90873 | valid_accuracy: 0.9009  |  0:19:37s\n",
      "epoch 83 | loss: 0.32396 | train_accuracy: 0.9093  | valid_accuracy: 0.90083 |  0:19:52s\n",
      "epoch 84 | loss: 0.32017 | train_accuracy: 0.9093  | valid_accuracy: 0.90151 |  0:20:06s\n",
      "epoch 85 | loss: 0.3203  | train_accuracy: 0.91118 | valid_accuracy: 0.90369 |  0:20:20s\n",
      "epoch 86 | loss: 0.31741 | train_accuracy: 0.91364 | valid_accuracy: 0.90537 |  0:20:34s\n",
      "epoch 87 | loss: 0.3127  | train_accuracy: 0.91305 | valid_accuracy: 0.90321 |  0:20:48s\n",
      "epoch 88 | loss: 0.3097  | train_accuracy: 0.9162  | valid_accuracy: 0.9077  |  0:21:02s\n",
      "epoch 89 | loss: 0.30616 | train_accuracy: 0.91934 | valid_accuracy: 0.90934 |  0:21:17s\n",
      "epoch 90 | loss: 0.30446 | train_accuracy: 0.9194  | valid_accuracy: 0.91023 |  0:21:31s\n",
      "epoch 91 | loss: 0.30086 | train_accuracy: 0.91977 | valid_accuracy: 0.90986 |  0:21:45s\n",
      "epoch 92 | loss: 0.30055 | train_accuracy: 0.91847 | valid_accuracy: 0.90878 |  0:21:59s\n"
     ]
    },
    {
     "name": "stdout",
     "output_type": "stream",
     "text": [
      "epoch 93 | loss: 0.3     | train_accuracy: 0.91893 | valid_accuracy: 0.90965 |  0:22:13s\n",
      "epoch 94 | loss: 0.29574 | train_accuracy: 0.92164 | valid_accuracy: 0.91204 |  0:22:28s\n",
      "epoch 95 | loss: 0.29605 | train_accuracy: 0.92248 | valid_accuracy: 0.91169 |  0:22:42s\n",
      "epoch 96 | loss: 0.29174 | train_accuracy: 0.92582 | valid_accuracy: 0.91584 |  0:22:56s\n",
      "epoch 97 | loss: 0.28917 | train_accuracy: 0.92349 | valid_accuracy: 0.91245 |  0:23:10s\n",
      "epoch 98 | loss: 0.28784 | train_accuracy: 0.92582 | valid_accuracy: 0.91566 |  0:23:24s\n",
      "epoch 99 | loss: 0.28434 | train_accuracy: 0.92726 | valid_accuracy: 0.91562 |  0:23:38s\n",
      "Stop training because you reached max_epochs = 100 with best_epoch = 96 and best_valid_accuracy = 0.91584\n"
     ]
    },
    {
     "name": "stderr",
     "output_type": "stream",
     "text": [
      "/data/home/yuehuazhang/miniconda3/envs/deeplearning/lib/python3.10/site-packages/pytorch_tabnet/callbacks.py:172: UserWarning: Best weights from best epoch are automatically used!\n",
      "  warnings.warn(wrn_msg)\n"
     ]
    }
   ],
   "source": [
    "from pytorch_tabnet.augmentations import ClassificationSMOTE\n",
    "aug = ClassificationSMOTE(p=0.2)\n",
    "\n",
    "clf.fit(\n",
    "    X_train=X_train, y_train=y_train,\n",
    "    eval_set=[(X_train, y_train), (X_valid, y_valid)],\n",
    "    eval_name=['train', 'valid'],\n",
    "    max_epochs=max_epochs, patience=100,\n",
    "    batch_size=16384, virtual_batch_size=256,\n",
    "    augmentations=aug\n",
    ") "
   ]
  },
  {
   "cell_type": "code",
   "execution_count": 14,
   "metadata": {},
   "outputs": [
    {
     "data": {
      "text/plain": [
       "[<matplotlib.lines.Line2D at 0x7f57239b17b0>]"
      ]
     },
     "execution_count": 14,
     "metadata": {},
     "output_type": "execute_result"
    },
    {
     "data": {
      "image/png": "[encoded data removed]",
      "text/plain": [
       "<Figure size 640x480 with 1 Axes>"
      ]
     },
     "metadata": {},
     "output_type": "display_data"
    }
   ],
   "source": [
    "# plot losses\n",
    "plt.plot(clf.history['loss'])"
   ]
  },
  {
   "cell_type": "code",
   "execution_count": 15,
   "metadata": {},
   "outputs": [
    {
     "data": {
      "text/plain": [
       "[<matplotlib.lines.Line2D at 0x7f5702932e60>]"
      ]
     },
     "execution_count": 15,
     "metadata": {},
     "output_type": "execute_result"
    },
    {
     "data": {
      "image/png": "[encoded data removed]",
      "text/plain": [
       "<Figure size 640x480 with 1 Axes>"
      ]
     },
     "metadata": {},
     "output_type": "display_data"
    }
   ],
   "source": [
    "# plot accuracy\n",
    "plt.plot(clf.history['train_accuracy'])\n",
    "plt.plot(clf.history['valid_accuracy'])"
   ]
  },
  {
   "cell_type": "markdown",
   "metadata": {},
   "source": [
    "### Predictions\n"
   ]
  },
  {
   "cell_type": "code",
   "execution_count": 16,
   "metadata": {},
   "outputs": [
    {
     "name": "stdout",
     "output_type": "stream",
     "text": [
      "BEST VALID SCORE FOR forest-cover-type : 0.9158432136933076\n",
      "FINAL TEST SCORE FOR forest-cover-type : 0.9168782217326575\n"
     ]
    }
   ],
   "source": [
    "# To get final results you may need to use a mapping for classes \n",
    "# as you are allowed to use targets like [\"yes\", \"no\", \"maybe\", \"I don't know\"]\n",
    "\n",
    "preds_mapper = { idx : class_name for idx, class_name in enumerate(clf.classes_)}\n",
    "\n",
    "preds = clf.predict_proba(X_test)\n",
    "\n",
    "y_pred = np.vectorize(preds_mapper.get)(np.argmax(preds, axis=1))\n",
    "\n",
    "test_acc = accuracy_score(y_pred=y_pred, y_true=y_test)\n",
    "\n",
    "print(f\"BEST VALID SCORE FOR {dataset_name} : {clf.best_cost}\")\n",
    "print(f\"FINAL TEST SCORE FOR {dataset_name} : {test_acc}\")"
   ]
  },
  {
   "cell_type": "code",
   "execution_count": 17,
   "metadata": {},
   "outputs": [
    {
     "name": "stdout",
     "output_type": "stream",
     "text": [
      "FINAL TEST SCORE FOR forest-cover-type : 0.9168782217326575\n"
     ]
    }
   ],
   "source": [
    "# or you can simply use the predict method\n",
    "\n",
    "y_pred = clf.predict(X_test)\n",
    "test_acc = accuracy_score(y_pred=y_pred, y_true=y_test)\n",
    "print(f\"FINAL TEST SCORE FOR {dataset_name} : {test_acc}\")"
   ]
  },
  {
   "cell_type": "markdown",
   "metadata": {},
   "source": [
    "# Save and load Model"
   ]
  },
  {
   "cell_type": "code",
   "execution_count": 18,
   "metadata": {},
   "outputs": [],
   "source": [
    "# # save state dict\n",
    "# saved_filename = clf.save_model('test_model')"
   ]
  },
  {
   "cell_type": "code",
   "execution_count": 19,
   "metadata": {},
   "outputs": [],
   "source": [
    "# # define new model and load save parameters\n",
    "# loaded_clf = TabNetClassifier()\n",
    "# loaded_clf.load_model(saved_filename)"
   ]
  },
  {
   "cell_type": "code",
   "execution_count": 20,
   "metadata": {},
   "outputs": [],
   "source": [
    "# loaded_preds = loaded_clf.predict_proba(X_test)\n",
    "# loaded_y_pred = np.vectorize(preds_mapper.get)(np.argmax(loaded_preds, axis=1))\n",
    "\n",
    "# loaded_test_acc = accuracy_score(y_pred=loaded_y_pred, y_true=y_test)\n",
    "\n",
    "# print(f\"FINAL TEST SCORE FOR {dataset_name} : {loaded_test_acc}\")"
   ]
  },
  {
   "cell_type": "code",
   "execution_count": 21,
   "metadata": {},
   "outputs": [],
   "source": [
    "# assert(test_acc == loaded_test_acc)"
   ]
  },
  {
   "cell_type": "markdown",
   "metadata": {},
   "source": [
    "# Global explainability : feat importance summing to 1"
   ]
  },
  {
   "cell_type": "code",
   "execution_count": 22,
   "metadata": {
    "scrolled": true
   },
   "outputs": [
    {
     "name": "stdout",
     "output_type": "stream",
     "text": [
      "clf.feature_importances_: [8.45160426e-02 3.47159114e-02 2.35832024e-03 2.70815272e-02\n",
      " 2.75353537e-03 8.72944194e-02 3.53814464e-03 2.08957417e-02\n",
      " 1.01742526e-02 5.73750997e-02 1.27778798e-02 4.01940647e-02\n",
      " 2.95750907e-02 4.38762543e-02 6.57560966e-03 1.55745083e-03\n",
      " 2.91861197e-05 2.23626080e-03 7.04971529e-03 6.42374268e-03\n",
      " 2.26491455e-02 5.27562986e-03 1.48781870e-04 2.06986913e-02\n",
      " 3.13185142e-03 3.39597924e-02 4.69310785e-03 3.19808470e-08\n",
      " 7.44864062e-03 4.84104598e-03 3.30855722e-03 7.58491673e-03\n",
      " 6.03856242e-03 3.68628933e-03 1.88433365e-02 2.48074778e-02\n",
      " 9.87137164e-06 3.26457565e-02 2.18076728e-02 1.49883275e-02\n",
      " 7.86338810e-03 6.22410374e-03 2.06727170e-02 2.47925486e-02\n",
      " 4.07501718e-02 1.05357711e-02 4.41630824e-02 1.17958859e-02\n",
      " 1.80186251e-02 1.52294565e-02 7.84869410e-03 2.56908142e-02\n",
      " 3.83336178e-02 1.05153870e-02]\n",
      "clf.feature_importances_.size: 54\n"
     ]
    }
   ],
   "source": [
    "clf.feature_importances_\n",
    "print(\"clf.feature_importances_:\", clf.feature_importances_)\n",
    "print(\"clf.feature_importances_.size:\", clf.feature_importances_.size)"
   ]
  },
  {
   "cell_type": "markdown",
   "metadata": {},
   "source": [
    "# Local explainability and masks"
   ]
  },
  {
   "cell_type": "code",
   "execution_count": 23,
   "metadata": {},
   "outputs": [],
   "source": [
    "explain_matrix, masks = clf.explain(X_test)"
   ]
  },
  {
   "cell_type": "code",
   "execution_count": 24,
   "metadata": {
    "scrolled": true
   },
   "outputs": [
    {
     "data": {
      "image/png": "[encoded data removed]",
      "text/plain": [
       "<Figure size 2000x2000 with 5 Axes>"
      ]
     },
     "metadata": {},
     "output_type": "display_data"
    }
   ],
   "source": [
    "fig, axs = plt.subplots(1, 5, figsize=(20,20))\n",
    "\n",
    "for i in range(5):\n",
    "    axs[i].imshow(masks[i][:50])\n",
    "    axs[i].set_title(f\"mask {i}\")"
   ]
  },
  {
   "cell_type": "markdown",
   "metadata": {},
   "source": [
    "# Output Kaggle Data"
   ]
  },
  {
   "cell_type": "code",
   "execution_count": 25,
   "metadata": {},
   "outputs": [
    {
     "name": "stdout",
     "output_type": "stream",
     "text": [
      "end\n"
     ]
    }
   ],
   "source": [
    "X_kaggle = train_kaggle.to_numpy()\n",
    "y_kaggle = clf.predict(X_kaggle).astype(str)\n",
    "\n",
    "y_kaggle_new = np.insert(y_kaggle, 0, target)\n",
    "\n",
    "# 将ndarray转换为DataFrame\n",
    "df = pd.DataFrame(y_kaggle_new)\n",
    "\n",
    "# 沿列轴拼接两个 DataFrame（axis=1）\n",
    "combined_df = pd.concat([id_kaggle, df], axis=1)\n",
    "\n",
    "# 将DataFrame保存为Excel文件\n",
    "combined_df.to_csv(\"output_kaggle.csv\", index=False)\n",
    "print(\"end\")"
   ]
  },
  {
   "cell_type": "markdown",
   "metadata": {},
   "source": [
    "# XGB"
   ]
  },
  {
   "cell_type": "code",
   "execution_count": 46,
   "metadata": {},
   "outputs": [],
   "source": [
    "n_estimators = 1000 if not os.getenv(\"CI\", False) else 20"
   ]
  },
  {
   "cell_type": "code",
   "execution_count": 52,
   "metadata": {
    "scrolled": true
   },
   "outputs": [
    {
     "ename": "ValueError",
     "evalue": "Invalid classes inferred from unique values of `y`.  Expected: [0 1 2 3 4 5 6], got [1 2 3 4 5 6 7]",
     "output_type": "error",
     "traceback": [
      "\u001b[0;31m---------------------------------------------------------------------------\u001b[0m",
      "\u001b[0;31mValueError\u001b[0m                                Traceback (most recent call last)",
      "Cell \u001b[0;32mIn[52], line 26\u001b[0m\n\u001b[1;32m      1\u001b[0m \u001b[38;5;28;01mfrom\u001b[39;00m \u001b[38;5;21;01mxgboost\u001b[39;00m \u001b[38;5;28;01mimport\u001b[39;00m XGBClassifier\n\u001b[1;32m      3\u001b[0m clf_xgb \u001b[38;5;241m=\u001b[39m XGBClassifier(max_depth\u001b[38;5;241m=\u001b[39m\u001b[38;5;241m8\u001b[39m,\n\u001b[1;32m      4\u001b[0m     learning_rate\u001b[38;5;241m=\u001b[39m\u001b[38;5;241m0.1\u001b[39m,\n\u001b[1;32m      5\u001b[0m     n_estimators\u001b[38;5;241m=\u001b[39mn_estimators,\n\u001b[0;32m   (...)\u001b[0m\n\u001b[1;32m     23\u001b[0m     random_state\u001b[38;5;241m=\u001b[39m\u001b[38;5;241m0\u001b[39m,\n\u001b[1;32m     24\u001b[0m     seed\u001b[38;5;241m=\u001b[39m\u001b[38;5;28;01mNone\u001b[39;00m,)\n\u001b[0;32m---> 26\u001b[0m \u001b[43mclf_xgb\u001b[49m\u001b[38;5;241;43m.\u001b[39;49m\u001b[43mfit\u001b[49m\u001b[43m(\u001b[49m\u001b[43mX_train\u001b[49m\u001b[43m,\u001b[49m\u001b[43m \u001b[49m\u001b[43my_train\u001b[49m\u001b[43m,\u001b[49m\n\u001b[1;32m     27\u001b[0m \u001b[43m            \u001b[49m\u001b[43meval_set\u001b[49m\u001b[38;5;241;43m=\u001b[39;49m\u001b[43m[\u001b[49m\u001b[43m(\u001b[49m\u001b[43mX_valid\u001b[49m\u001b[43m,\u001b[49m\u001b[43m \u001b[49m\u001b[43my_valid\u001b[49m\u001b[43m)\u001b[49m\u001b[43m]\u001b[49m\u001b[43m,\u001b[49m\n\u001b[1;32m     28\u001b[0m \u001b[43m            \u001b[49m\u001b[43mearly_stopping_rounds\u001b[49m\u001b[38;5;241;43m=\u001b[39;49m\u001b[38;5;241;43m40\u001b[39;49m\u001b[43m,\u001b[49m\n\u001b[1;32m     29\u001b[0m \u001b[43m            \u001b[49m\u001b[43mverbose\u001b[49m\u001b[38;5;241;43m=\u001b[39;49m\u001b[38;5;241;43m10\u001b[39;49m\u001b[43m)\u001b[49m\n",
      "File \u001b[0;32m~/miniconda3/envs/deeplearning/lib/python3.10/site-packages/xgboost/core.py:620\u001b[0m, in \u001b[0;36mrequire_keyword_args.<locals>.throw_if.<locals>.inner_f\u001b[0;34m(*args, **kwargs)\u001b[0m\n\u001b[1;32m    618\u001b[0m \u001b[38;5;28;01mfor\u001b[39;00m k, arg \u001b[38;5;129;01min\u001b[39;00m \u001b[38;5;28mzip\u001b[39m(sig\u001b[38;5;241m.\u001b[39mparameters, args):\n\u001b[1;32m    619\u001b[0m     kwargs[k] \u001b[38;5;241m=\u001b[39m arg\n\u001b[0;32m--> 620\u001b[0m \u001b[38;5;28;01mreturn\u001b[39;00m \u001b[43mfunc\u001b[49m\u001b[43m(\u001b[49m\u001b[38;5;241;43m*\u001b[39;49m\u001b[38;5;241;43m*\u001b[39;49m\u001b[43mkwargs\u001b[49m\u001b[43m)\u001b[49m\n",
      "File \u001b[0;32m~/miniconda3/envs/deeplearning/lib/python3.10/site-packages/xgboost/sklearn.py:1440\u001b[0m, in \u001b[0;36mXGBClassifier.fit\u001b[0;34m(self, X, y, sample_weight, base_margin, eval_set, eval_metric, early_stopping_rounds, verbose, xgb_model, sample_weight_eval_set, base_margin_eval_set, feature_weights, callbacks)\u001b[0m\n\u001b[1;32m   1435\u001b[0m     expected_classes \u001b[38;5;241m=\u001b[39m np\u001b[38;5;241m.\u001b[39marange(\u001b[38;5;28mself\u001b[39m\u001b[38;5;241m.\u001b[39mn_classes_)\n\u001b[1;32m   1436\u001b[0m \u001b[38;5;28;01mif\u001b[39;00m (\n\u001b[1;32m   1437\u001b[0m     \u001b[38;5;28mself\u001b[39m\u001b[38;5;241m.\u001b[39mclasses_\u001b[38;5;241m.\u001b[39mshape \u001b[38;5;241m!=\u001b[39m expected_classes\u001b[38;5;241m.\u001b[39mshape\n\u001b[1;32m   1438\u001b[0m     \u001b[38;5;129;01mor\u001b[39;00m \u001b[38;5;129;01mnot\u001b[39;00m (\u001b[38;5;28mself\u001b[39m\u001b[38;5;241m.\u001b[39mclasses_ \u001b[38;5;241m==\u001b[39m expected_classes)\u001b[38;5;241m.\u001b[39mall()\n\u001b[1;32m   1439\u001b[0m ):\n\u001b[0;32m-> 1440\u001b[0m     \u001b[38;5;28;01mraise\u001b[39;00m \u001b[38;5;167;01mValueError\u001b[39;00m(\n\u001b[1;32m   1441\u001b[0m         \u001b[38;5;124mf\u001b[39m\u001b[38;5;124m\"\u001b[39m\u001b[38;5;124mInvalid classes inferred from unique values of `y`.  \u001b[39m\u001b[38;5;124m\"\u001b[39m\n\u001b[1;32m   1442\u001b[0m         \u001b[38;5;124mf\u001b[39m\u001b[38;5;124m\"\u001b[39m\u001b[38;5;124mExpected: \u001b[39m\u001b[38;5;132;01m{\u001b[39;00mexpected_classes\u001b[38;5;132;01m}\u001b[39;00m\u001b[38;5;124m, got \u001b[39m\u001b[38;5;132;01m{\u001b[39;00m\u001b[38;5;28mself\u001b[39m\u001b[38;5;241m.\u001b[39mclasses_\u001b[38;5;132;01m}\u001b[39;00m\u001b[38;5;124m\"\u001b[39m\n\u001b[1;32m   1443\u001b[0m     )\n\u001b[1;32m   1445\u001b[0m params \u001b[38;5;241m=\u001b[39m \u001b[38;5;28mself\u001b[39m\u001b[38;5;241m.\u001b[39mget_xgb_params()\n\u001b[1;32m   1447\u001b[0m \u001b[38;5;28;01mif\u001b[39;00m \u001b[38;5;28mcallable\u001b[39m(\u001b[38;5;28mself\u001b[39m\u001b[38;5;241m.\u001b[39mobjective):\n",
      "\u001b[0;31mValueError\u001b[0m: Invalid classes inferred from unique values of `y`.  Expected: [0 1 2 3 4 5 6], got [1 2 3 4 5 6 7]"
     ]
    }
   ],
   "source": [
    "from xgboost import XGBClassifier\n",
    "\n",
    "clf_xgb = XGBClassifier(max_depth=8,\n",
    "    learning_rate=0.1,\n",
    "    n_estimators=n_estimators,\n",
    "    verbosity=0,\n",
    "    silent=None,\n",
    "    objective=\"multi:softmax\",\n",
    "    booster='gbtree',\n",
    "    n_jobs=-1,\n",
    "    nthread=None,\n",
    "    gamma=0,\n",
    "    min_child_weight=1,\n",
    "    max_delta_step=0,\n",
    "    subsample=0.7,\n",
    "    colsample_bytree=1,\n",
    "    colsample_bylevel=1,\n",
    "    colsample_bynode=1,\n",
    "    reg_alpha=0,\n",
    "    reg_lambda=1,\n",
    "    scale_pos_weight=1,\n",
    "    base_score=0.5,\n",
    "    random_state=0,\n",
    "    seed=None,)\n",
    "\n",
    "clf_xgb.fit(X_train, y_train,\n",
    "            eval_set=[(X_valid, y_valid)],\n",
    "            early_stopping_rounds=40,\n",
    "            verbose=10)"
   ]
  },
  {
   "cell_type": "code",
   "execution_count": 1,
   "metadata": {},
   "outputs": [
    {
     "ename": "NameError",
     "evalue": "name 'np' is not defined",
     "output_type": "error",
     "traceback": [
      "\u001b[0;31m---------------------------------------------------------------------------\u001b[0m",
      "\u001b[0;31mNameError\u001b[0m                                 Traceback (most recent call last)",
      "Cell \u001b[0;32mIn[1], line 1\u001b[0m\n\u001b[0;32m----> 1\u001b[0m preds_valid \u001b[38;5;241m=\u001b[39m \u001b[43mnp\u001b[49m\u001b[38;5;241m.\u001b[39marray(clf_xgb\u001b[38;5;241m.\u001b[39mpredict_proba(X_valid, ))\n\u001b[1;32m      2\u001b[0m valid_acc \u001b[38;5;241m=\u001b[39m accuracy_score(y_pred\u001b[38;5;241m=\u001b[39mnp\u001b[38;5;241m.\u001b[39margmax(preds_valid, axis\u001b[38;5;241m=\u001b[39m\u001b[38;5;241m1\u001b[39m) \u001b[38;5;241m+\u001b[39m \u001b[38;5;241m1\u001b[39m, y_true\u001b[38;5;241m=\u001b[39my_valid)\n\u001b[1;32m      3\u001b[0m \u001b[38;5;28mprint\u001b[39m(valid_acc)\n",
      "\u001b[0;31mNameError\u001b[0m: name 'np' is not defined"
     ]
    }
   ],
   "source": [
    "preds_valid = np.array(clf_xgb.predict_proba(X_valid, ))\n",
    "valid_acc = accuracy_score(y_pred=np.argmax(preds_valid, axis=1) + 1, y_true=y_valid)\n",
    "print(valid_acc)\n",
    "\n",
    "preds_test = np.array(clf_xgb.predict_proba(X_test))\n",
    "test_acc = accuracy_score(y_pred=np.argmax(preds_test, axis=1) + 1, y_true=y_test)\n",
    "print(test_acc)"
   ]
  },
  {
   "cell_type": "code",
   "execution_count": null,
   "metadata": {},
   "outputs": [],
   "source": []
  }
 ],
 "metadata": {
  "kernelspec": {
   "display_name": "Python 3 (ipykernel)",
   "language": "python",
   "name": "python3"
  },
  "language_info": {
   "codemirror_mode": {
    "name": "ipython",
    "version": 3
   },
   "file_extension": ".py",
   "mimetype": "text/x-python",
   "name": "python",
   "nbconvert_exporter": "python",
   "pygments_lexer": "ipython3",
   "version": "3.10.12"
  },
  "toc": {
   "base_numbering": 1,
   "nav_menu": {},
   "number_sections": true,
   "sideBar": true,
   "skip_h1_title": false,
   "title_cell": "Table of Contents",
   "title_sidebar": "Contents",
   "toc_cell": false,
   "toc_position": {},
   "toc_section_display": true,
   "toc_window_display": false
  }
 },
 "nbformat": 4,
 "nbformat_minor": 2
}
